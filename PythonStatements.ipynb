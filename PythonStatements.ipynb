{
 "cells": [
  {
   "cell_type": "markdown",
   "metadata": {},
   "source": [
    "__Python Statements__\n",
    "\n",
    "\n",
    "* If- Elif - Else\n",
    "* Loops - If & While\n",
    "* Pass, Break * Continue\n",
    "* Operators - Range, Enumerate\n",
    "* List Comprehension"
   ]
  },
  {
   "cell_type": "markdown",
   "metadata": {},
   "source": [
    "#### If- Elif - Else"
   ]
  },
  {
   "cell_type": "code",
   "execution_count": 1,
   "metadata": {},
   "outputs": [
    {
     "name": "stdout",
     "output_type": "stream",
     "text": [
      "Odd\n"
     ]
    }
   ],
   "source": [
    "x = 5\n",
    "\n",
    "if x%2==0:\n",
    "    print('Even')\n",
    "else:\n",
    "    print('Odd')"
   ]
  },
  {
   "cell_type": "code",
   "execution_count": 2,
   "metadata": {},
   "outputs": [
    {
     "name": "stdout",
     "output_type": "stream",
     "text": [
      "SUBDIVISION\n"
     ]
    }
   ],
   "source": [
    "x = 'SUBDIVISION'\n",
    "\n",
    "if x=='COUNTY':\n",
    "    print('County')\n",
    "elif x=='STATE':\n",
    "    print('State')\n",
    "else:\n",
    "    print(x)"
   ]
  },
  {
   "cell_type": "code",
   "execution_count": 3,
   "metadata": {},
   "outputs": [
    {
     "name": "stdout",
     "output_type": "stream",
     "text": [
      "True\n"
     ]
    }
   ],
   "source": [
    "x = True\n",
    "\n",
    "if x:\n",
    "    print('True')\n",
    "elif not x:\n",
    "    print('False')"
   ]
  },
  {
   "cell_type": "markdown",
   "metadata": {},
   "source": [
    "#### For Loops"
   ]
  },
  {
   "cell_type": "code",
   "execution_count": 4,
   "metadata": {},
   "outputs": [
    {
     "name": "stdout",
     "output_type": "stream",
     "text": [
      "0\n",
      "1\n",
      "2\n",
      "3\n",
      "4\n",
      "5\n"
     ]
    }
   ],
   "source": [
    "x = [0,1,2,3,4,5]\n",
    "for i in x:\n",
    "    print (i)"
   ]
  },
  {
   "cell_type": "markdown",
   "metadata": {},
   "source": [
    "Iterating List, Dict, Tuple, Set & String."
   ]
  },
  {
   "cell_type": "code",
   "execution_count": 5,
   "metadata": {},
   "outputs": [
    {
     "name": "stdout",
     "output_type": "stream",
     "text": [
      "A\n",
      "B\n",
      "C\n",
      "D\n",
      "Hello Python\n",
      "*****\n",
      "('a', 'b')\n",
      "(1, 3)\n",
      "('c', 'd')\n",
      "a\n",
      "1\n",
      "c\n",
      "b\n",
      "3\n",
      "d\n"
     ]
    }
   ],
   "source": [
    "str_list = ['A','B','C','D','Hello Python']\n",
    "nested_list = [('a','b'), (1,3), ('c','d')]\n",
    "\n",
    "# iterating lists\n",
    "for item in str_list:\n",
    "    print(item)\n",
    "print('*****')\n",
    "for item in nested_list:\n",
    "    print(item)\n",
    "# Tuple unpacking \n",
    "for i,j in nested_list:\n",
    "    print(i)\n",
    "for i,j in nested_list:\n",
    "    print(j)"
   ]
  },
  {
   "cell_type": "code",
   "execution_count": 6,
   "metadata": {},
   "outputs": [
    {
     "name": "stdout",
     "output_type": "stream",
     "text": [
      "N\n",
      "S\n",
      "E\n",
      "W\n"
     ]
    }
   ],
   "source": [
    "my_dict = { \"N\": \"North\", \"S\": \"South\", \"E\": \"East\", \"W\": \"West\" } \n",
    "\n",
    "# iterating dictionary - by default it will print keys\n",
    "for item in my_dict:\n",
    "    print(item)"
   ]
  },
  {
   "cell_type": "code",
   "execution_count": 7,
   "metadata": {},
   "outputs": [
    {
     "name": "stdout",
     "output_type": "stream",
     "text": [
      "('N', 'North')\n",
      "('S', 'South')\n",
      "('E', 'East')\n",
      "('W', 'West')\n",
      "N -- North\n",
      "S -- South\n",
      "E -- East\n",
      "W -- West\n",
      "N\n",
      "S\n",
      "E\n",
      "W\n",
      "North\n",
      "South\n",
      "East\n",
      "West\n"
     ]
    }
   ],
   "source": [
    "my_dict = { \"N\": \"North\", \"S\": \"South\", \"E\": \"East\", \"W\": \"West\" } \n",
    "\n",
    "# iterating dictionary items, values & keys\n",
    "for item in my_dict.items():\n",
    "    print(item)\n",
    "# here we can use tuple unpacking    \n",
    "for k,v in my_dict.items():\n",
    "    print(k + ' -- ' + v )    \n",
    "# other ways\n",
    "for item in my_dict.keys():\n",
    "    print(item)\n",
    "for item in my_dict.values():\n",
    "    print(item)"
   ]
  },
  {
   "cell_type": "code",
   "execution_count": 8,
   "metadata": {},
   "outputs": [
    {
     "name": "stdout",
     "output_type": "stream",
     "text": [
      "North\n",
      "South\n",
      "East\n",
      "West\n",
      "*****\n",
      "1\n",
      "South\n",
      "5.5\n",
      "('A', 'B', 'C')\n",
      "[0, 1, 2]\n"
     ]
    }
   ],
   "source": [
    "my_tup  =  ('North','South','East','West')\n",
    "my_nested_tup  =  tuple((1,'South',5.5,('A','B','C'),[0,1,2]))\n",
    "\n",
    "# iterating tuple\n",
    "\n",
    "for item in my_tup:\n",
    "    print(item)\n",
    "print('*****')    \n",
    "for item in my_nested_tup:\n",
    "    print(item)"
   ]
  },
  {
   "cell_type": "code",
   "execution_count": 9,
   "metadata": {},
   "outputs": [
    {
     "name": "stdout",
     "output_type": "stream",
     "text": [
      "P\n",
      "y\n",
      "t\n",
      "h\n",
      "o\n",
      "n\n",
      " \n",
      "l\n",
      "a\n",
      "n\n",
      "g\n",
      "u\n",
      "a\n",
      "g\n",
      "e\n"
     ]
    }
   ],
   "source": [
    "# iterating string\n",
    "x = 'Python language'\n",
    "for item in x:\n",
    "    print(item)"
   ]
  },
  {
   "cell_type": "code",
   "execution_count": 10,
   "metadata": {},
   "outputs": [
    {
     "name": "stdout",
     "output_type": "stream",
     "text": [
      "4\n",
      "5\n",
      "c\n",
      "b\n",
      "a\n"
     ]
    }
   ],
   "source": [
    "# iterating sets\n",
    "my_set = set([\"a\", \"b\",\"c\", 4, 5])\n",
    "for item in my_set:\n",
    "    print(item)"
   ]
  },
  {
   "cell_type": "markdown",
   "metadata": {},
   "source": [
    "#### While Loops"
   ]
  },
  {
   "cell_type": "code",
   "execution_count": 11,
   "metadata": {},
   "outputs": [
    {
     "name": "stdout",
     "output_type": "stream",
     "text": [
      "0\n",
      "2\n",
      "4\n",
      "6\n",
      "8\n",
      "10\n"
     ]
    }
   ],
   "source": [
    "# lets print even numbers using while\n",
    "x = 0\n",
    "while x <= 10:\n",
    "    if x%2==0:\n",
    "        print(x)\n",
    "    x+=1"
   ]
  },
  {
   "cell_type": "markdown",
   "metadata": {},
   "source": [
    "#### Pass, Break & Continue"
   ]
  },
  {
   "cell_type": "code",
   "execution_count": 12,
   "metadata": {},
   "outputs": [],
   "source": [
    "# Pass does nothing, its just help you for setting placeholder. \n",
    "x = 0\n",
    "while x <= 10:\n",
    "    if x%2==0:\n",
    "        pass\n",
    "    x+=1"
   ]
  },
  {
   "cell_type": "code",
   "execution_count": 13,
   "metadata": {},
   "outputs": [
    {
     "name": "stdout",
     "output_type": "stream",
     "text": [
      "P\n",
      "t\n",
      "h\n",
      "o\n",
      "n\n"
     ]
    }
   ],
   "source": [
    "# Continue - Goes to top  of loop\n",
    "# let say we are printing string & dont want to print specific char\n",
    "x = 'Python'\n",
    "for i in x:\n",
    "    if i =='y':\n",
    "        continue\n",
    "    print(i)\n",
    "    "
   ]
  },
  {
   "cell_type": "code",
   "execution_count": 14,
   "metadata": {},
   "outputs": [
    {
     "name": "stdout",
     "output_type": "stream",
     "text": [
      "P\n",
      "y\n"
     ]
    }
   ],
   "source": [
    "# Break - break out of current loop \n",
    "# let say we are printing string & dont want to print specific char\n",
    "x = 'Python'\n",
    "for i in x:\n",
    "    if i =='t':\n",
    "        break\n",
    "    print(i)"
   ]
  },
  {
   "cell_type": "markdown",
   "metadata": {},
   "source": [
    "#### Operators"
   ]
  },
  {
   "cell_type": "code",
   "execution_count": 15,
   "metadata": {},
   "outputs": [
    {
     "name": "stdout",
     "output_type": "stream",
     "text": [
      "0\n",
      "3\n",
      "6\n",
      "9\n",
      "12\n",
      "15\n",
      "18\n"
     ]
    }
   ],
   "source": [
    "# Range for generating numbers - range(start,end,step):\n",
    "for i in range(0,20,3):\n",
    "    print(i)"
   ]
  },
  {
   "cell_type": "code",
   "execution_count": 16,
   "metadata": {},
   "outputs": [
    {
     "name": "stdout",
     "output_type": "stream",
     "text": [
      "[0, 2, 4, 6, 8, 10, 12, 14, 16, 18, 20, 22, 24, 26, 28]\n"
     ]
    }
   ],
   "source": [
    "# Create list using range\n",
    "my_list = list(range(0,30,2))\n",
    "print(my_list)"
   ]
  },
  {
   "cell_type": "code",
   "execution_count": 17,
   "metadata": {},
   "outputs": [
    {
     "name": "stdout",
     "output_type": "stream",
     "text": [
      "(0, 'P')\n",
      "(1, 'y')\n",
      "(2, 't')\n",
      "(3, 'h')\n",
      "(4, 'o')\n",
      "(5, 'n')\n"
     ]
    }
   ],
   "source": [
    "# enumerate - index & value in form of tuple. You can use tuple unpacking.\n",
    "my_str = 'Python'\n",
    "for i in enumerate (my_str):\n",
    "    print(i)\n"
   ]
  },
  {
   "cell_type": "markdown",
   "metadata": {},
   "source": [
    "#### List Comprehension"
   ]
  },
  {
   "cell_type": "code",
   "execution_count": 18,
   "metadata": {},
   "outputs": [
    {
     "name": "stdout",
     "output_type": "stream",
     "text": [
      "['P', 'y', 't', 'h', 'o', 'n']\n"
     ]
    }
   ],
   "source": [
    "my_str = 'Python'\n",
    "\n",
    "my_list = [i for i in my_str ]\n",
    "print(my_list)"
   ]
  },
  {
   "cell_type": "code",
   "execution_count": 19,
   "metadata": {},
   "outputs": [
    {
     "name": "stdout",
     "output_type": "stream",
     "text": [
      "['A', 'B', 'C', 'B', 'S', 'B', 'S']\n"
     ]
    }
   ],
   "source": [
    "my_list2 = [i for i in 'ABCBSBS' ]\n",
    "print(my_list2)"
   ]
  },
  {
   "cell_type": "code",
   "execution_count": 20,
   "metadata": {},
   "outputs": [
    {
     "name": "stdout",
     "output_type": "stream",
     "text": [
      "[0, 1, 2, 3, 4, 5, 6, 7, 8, 9, 10]\n"
     ]
    }
   ],
   "source": [
    "my_list3 = [i for i in range(0,11) ]\n",
    "print(my_list3)"
   ]
  },
  {
   "cell_type": "code",
   "execution_count": 21,
   "metadata": {},
   "outputs": [
    {
     "name": "stdout",
     "output_type": "stream",
     "text": [
      "[0, 2, 4, 6, 8, 10, 12, 14, 16, 18]\n"
     ]
    }
   ],
   "source": [
    "my_list4 = [i for i in range(0,20) if i%2==0 ]\n",
    "print(my_list4)"
   ]
  },
  {
   "cell_type": "code",
   "execution_count": 22,
   "metadata": {},
   "outputs": [
    {
     "name": "stdout",
     "output_type": "stream",
     "text": [
      "[0, 8, 64, 216, 512, 1000, 1728, 2744, 4096, 5832]\n"
     ]
    }
   ],
   "source": [
    "my_list4 = [i**3 for i in range(0,20) if i%2==0 ]\n",
    "print(my_list4)"
   ]
  },
  {
   "cell_type": "code",
   "execution_count": 23,
   "metadata": {},
   "outputs": [
    {
     "name": "stdout",
     "output_type": "stream",
     "text": [
      "[0.0, 4.0, 12.0, 24.0, 40.0, 60.0, 84.0, 112.0, 144.0, 180.0]\n"
     ]
    }
   ],
   "source": [
    "my_list4 = [(i*(i+2))/2 for i in range(0,20) if i%2==0 ]\n",
    "print(my_list4)"
   ]
  }
 ],
 "metadata": {
  "kernelspec": {
   "display_name": "Python 3",
   "language": "python",
   "name": "python3"
  },
  "language_info": {
   "codemirror_mode": {
    "name": "ipython",
    "version": 3
   },
   "file_extension": ".py",
   "mimetype": "text/x-python",
   "name": "python",
   "nbconvert_exporter": "python",
   "pygments_lexer": "ipython3",
   "version": "3.7.7"
  }
 },
 "nbformat": 4,
 "nbformat_minor": 4
}
